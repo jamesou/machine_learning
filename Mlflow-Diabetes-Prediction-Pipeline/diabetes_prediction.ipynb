{
 "cells": [
  {
   "cell_type": "markdown",
   "id": "c381f3b0-1043-441b-a414-36edc28854c3",
   "metadata": {
    "tags": []
   },
   "source": [
    "## Overview\n",
    "This part will describe the code implementation for the training model. There are five main steps to training an ML model. \n",
    "- The first step is to set the MLFlow experiment for diabetes prediction and load the diabetes dataset. \n",
    "- The second step is split into training 80% and test 20% sets. \n",
    "- In the third step select an algorithm, set the hyperparameters for it and run it. \n",
    "- The fourth step evaluates the result of the model run. \n",
    "- The last step deploy it. \n",
    "\n",
    "The complete activity diagram for constructing the model is shown in the diagram. \n",
    "![Training Activity Diagram](https://static.wixstatic.com/media/e5d689_4c960f43821044daab416cb7db14cb7b~mv2.jpg/v1/fill/w_1082,h_278,al_c,lg_1,q_80,enc_auto/e5d689_4c960f43821044daab416cb7db14cb7b~mv2.jpg)\n",
    "\n",
    "As we know, there are lots of prediction-related algorithms, such as linear models, logistic regression, SVM, knn, bagging, random forest, etc. Coding the ML models using the four classic algorithms and comparing them to find the most suitable one. We use the open-source algorithm library scikit-learn.\n"
   ]
  },
  {
   "cell_type": "code",
   "execution_count": 2,
   "id": "efdb9f1a",
   "metadata": {},
   "outputs": [
    {
     "data": {
      "text/html": [
       "<div>\n",
       "<style scoped>\n",
       "    .dataframe tbody tr th:only-of-type {\n",
       "        vertical-align: middle;\n",
       "    }\n",
       "\n",
       "    .dataframe tbody tr th {\n",
       "        vertical-align: top;\n",
       "    }\n",
       "\n",
       "    .dataframe thead th {\n",
       "        text-align: right;\n",
       "    }\n",
       "</style>\n",
       "<table border=\"1\" class=\"dataframe\">\n",
       "  <thead>\n",
       "    <tr style=\"text-align: right;\">\n",
       "      <th></th>\n",
       "      <th>gender</th>\n",
       "      <th>age</th>\n",
       "      <th>hypertension</th>\n",
       "      <th>heart_disease</th>\n",
       "      <th>smoking_history</th>\n",
       "      <th>bmi</th>\n",
       "      <th>HbA1c_level</th>\n",
       "      <th>blood_glucose_level</th>\n",
       "      <th>diabetes</th>\n",
       "    </tr>\n",
       "  </thead>\n",
       "  <tbody>\n",
       "    <tr>\n",
       "      <th>0</th>\n",
       "      <td>Female</td>\n",
       "      <td>80.0</td>\n",
       "      <td>0</td>\n",
       "      <td>1</td>\n",
       "      <td>never</td>\n",
       "      <td>25.19</td>\n",
       "      <td>6.6</td>\n",
       "      <td>140</td>\n",
       "      <td>0</td>\n",
       "    </tr>\n",
       "    <tr>\n",
       "      <th>1</th>\n",
       "      <td>Female</td>\n",
       "      <td>54.0</td>\n",
       "      <td>0</td>\n",
       "      <td>0</td>\n",
       "      <td>No Info</td>\n",
       "      <td>27.32</td>\n",
       "      <td>6.6</td>\n",
       "      <td>80</td>\n",
       "      <td>0</td>\n",
       "    </tr>\n",
       "    <tr>\n",
       "      <th>2</th>\n",
       "      <td>Male</td>\n",
       "      <td>28.0</td>\n",
       "      <td>0</td>\n",
       "      <td>0</td>\n",
       "      <td>never</td>\n",
       "      <td>27.32</td>\n",
       "      <td>5.7</td>\n",
       "      <td>158</td>\n",
       "      <td>0</td>\n",
       "    </tr>\n",
       "    <tr>\n",
       "      <th>3</th>\n",
       "      <td>Female</td>\n",
       "      <td>36.0</td>\n",
       "      <td>0</td>\n",
       "      <td>0</td>\n",
       "      <td>current</td>\n",
       "      <td>23.45</td>\n",
       "      <td>5.0</td>\n",
       "      <td>155</td>\n",
       "      <td>0</td>\n",
       "    </tr>\n",
       "    <tr>\n",
       "      <th>4</th>\n",
       "      <td>Male</td>\n",
       "      <td>76.0</td>\n",
       "      <td>1</td>\n",
       "      <td>1</td>\n",
       "      <td>current</td>\n",
       "      <td>20.14</td>\n",
       "      <td>4.8</td>\n",
       "      <td>155</td>\n",
       "      <td>0</td>\n",
       "    </tr>\n",
       "  </tbody>\n",
       "</table>\n",
       "</div>"
      ],
      "text/plain": [
       "   gender   age  hypertension  heart_disease smoking_history    bmi  \\\n",
       "0  Female  80.0             0              1           never  25.19   \n",
       "1  Female  54.0             0              0         No Info  27.32   \n",
       "2    Male  28.0             0              0           never  27.32   \n",
       "3  Female  36.0             0              0         current  23.45   \n",
       "4    Male  76.0             1              1         current  20.14   \n",
       "\n",
       "   HbA1c_level  blood_glucose_level  diabetes  \n",
       "0          6.6                  140         0  \n",
       "1          6.6                   80         0  \n",
       "2          5.7                  158         0  \n",
       "3          5.0                  155         0  \n",
       "4          4.8                  155         0  "
      ]
     },
     "execution_count": 2,
     "metadata": {},
     "output_type": "execute_result"
    }
   ],
   "source": [
    "import pandas as pd\n",
    "import matplotlib.pyplot as plt\n",
    "import seaborn as sns\n",
    "#from sklearn.preprocessing import StandardScaler\n",
    "from sklearn.model_selection import train_test_split\n",
    "from imblearn.over_sampling import SMOTE\n",
    "from sklearn.linear_model import LogisticRegression \n",
    "from sklearn.ensemble import RandomForestClassifier\n",
    "from sklearn.svm import SVC\n",
    "from sklearn.neighbors import KNeighborsClassifier\n",
    "from sklearn.metrics import confusion_matrix, accuracy_score, classification_report\n",
    "from sklearn.metrics import precision_recall_fscore_support,roc_auc_score,precision_recall_curve\n",
    "import mlflow\n",
    "#load dataset\n",
    "df = pd.read_csv(\"./diabetes_prediction_dataset.csv\")\n",
    "df.head()"
   ]
  },
  {
   "cell_type": "code",
   "execution_count": 3,
   "id": "31fb394f",
   "metadata": {},
   "outputs": [
    {
     "data": {
      "text/plain": [
       "gender                 0\n",
       "age                    0\n",
       "hypertension           0\n",
       "heart_disease          0\n",
       "smoking_history        0\n",
       "bmi                    0\n",
       "HbA1c_level            0\n",
       "blood_glucose_level    0\n",
       "diabetes               0\n",
       "dtype: int64"
      ]
     },
     "execution_count": 3,
     "metadata": {},
     "output_type": "execute_result"
    }
   ],
   "source": [
    "#check missed column\n",
    "df.isna().sum()"
   ]
  },
  {
   "cell_type": "code",
   "execution_count": 4,
   "id": "8ef3706e",
   "metadata": {},
   "outputs": [
    {
     "data": {
      "text/plain": [
       "(100000, 9)"
      ]
     },
     "execution_count": 4,
     "metadata": {},
     "output_type": "execute_result"
    }
   ],
   "source": [
    "# check the recoreds numer and column\n",
    "df.shape"
   ]
  },
  {
   "cell_type": "code",
   "execution_count": 5,
   "id": "9a72c306-0423-4748-ab23-8633d12f56d5",
   "metadata": {},
   "outputs": [
    {
     "data": {
      "text/plain": [
       "(96146, 9)"
      ]
     },
     "execution_count": 5,
     "metadata": {},
     "output_type": "execute_result"
    }
   ],
   "source": [
    "# delete duplicated data\n",
    "df = df.drop_duplicates()\n",
    "df.duplicated().sum()\n",
    "# check the recoreds numer and column\n",
    "df.shape"
   ]
  },
  {
   "cell_type": "code",
   "execution_count": 6,
   "id": "ab9d20c7",
   "metadata": {},
   "outputs": [
    {
     "data": {
      "image/png": "[encoded data removed]",
      "text/plain": [
       "<Figure size 432x288 with 1 Axes>"
      ]
     },
     "metadata": {},
     "output_type": "display_data"
    }
   ],
   "source": [
    "df.diabetes.value_counts().plot(kind = 'pie', autopct = '%1.1f%%', shadow = True)\n",
    "plt.title('Distribution of Diabetes')\n",
    "plt.show()"
   ]
  },
  {
   "cell_type": "code",
   "execution_count": 7,
   "id": "d1d2c533-b02f-4044-a254-fa558cdfa5ee",
   "metadata": {},
   "outputs": [
    {
     "data": {
      "image/png": "[encoded data removed]",
      "text/plain": [
       "<Figure size 1008x576 with 4 Axes>"
      ]
     },
     "metadata": {
      "needs_background": "light"
     },
     "output_type": "display_data"
    }
   ],
   "source": [
    "# feature analysing\n",
    "# ploting categorical features alongiside target feature\n",
    "fig, axes = plt.subplots(nrows=2, ncols=2, figsize=(14, 8))\n",
    "\n",
    "# Distribution of gender\n",
    "sns.countplot(x=\"gender\", data=df,hue = 'diabetes',ax=axes[0, 0])\n",
    "axes[0, 0].set_title(\"Distribution of Diabetes status within Gender\")\n",
    "axes[0, 0].set_xlabel(\"Gender\")\n",
    "axes[0, 0].set_ylabel(\"Count\")\n",
    "\n",
    "# Distribution of Hypertension\n",
    "sns.countplot(x=\"hypertension\", data=df, hue = 'diabetes', ax=axes[0, 1])\n",
    "axes[0, 1].set_title(\"Distribution of Diabetes status within Hypertension\")\n",
    "axes[0, 1].set_xlabel(\"Hypertension\")\n",
    "axes[0, 1].set_ylabel(\"Count\")\n",
    "\n",
    "# Chart 3: Distribution of heart disease\n",
    "sns.countplot(x=\"heart_disease\", hue = 'diabetes',data=df, ax=axes[1, 0])\n",
    "axes[1, 0].set_title(\"Distribution of Diabetes status within Heart Disease\")\n",
    "axes[1, 0].set_xlabel(\"Heart Disease\")\n",
    "axes[1, 0].set_ylabel(\"Count\")\n",
    "\n",
    "# Chart 4: Distribution of smoking history\n",
    "sns.countplot(x=\"smoking_history\", data=df, hue = 'diabetes', ax=axes[1, 1])\n",
    "axes[1, 1].set_title(\"Distribution of Diabetes status within Smoking History\")\n",
    "axes[1, 1].set_xlabel(\"Smoking History\")\n",
    "axes[1, 1].set_ylabel(\"Count\")\n",
    "\n",
    "plt.tight_layout()\n",
    "plt.show()"
   ]
  },
  {
   "cell_type": "code",
   "execution_count": 8,
   "id": "50b90af5-fb61-4a01-87c5-c863f64341cc",
   "metadata": {},
   "outputs": [
    {
     "data": {
      "image/png": "[encoded data removed]",
      "text/plain": [
       "<Figure size 720x576 with 4 Axes>"
      ]
     },
     "metadata": {
      "needs_background": "light"
     },
     "output_type": "display_data"
    },
    {
     "data": {
      "text/html": [
       "<div>\n",
       "<style scoped>\n",
       "    .dataframe tbody tr th:only-of-type {\n",
       "        vertical-align: middle;\n",
       "    }\n",
       "\n",
       "    .dataframe tbody tr th {\n",
       "        vertical-align: top;\n",
       "    }\n",
       "\n",
       "    .dataframe thead th {\n",
       "        text-align: right;\n",
       "    }\n",
       "</style>\n",
       "<table border=\"1\" class=\"dataframe\">\n",
       "  <thead>\n",
       "    <tr style=\"text-align: right;\">\n",
       "      <th></th>\n",
       "      <th>age</th>\n",
       "      <th>hypertension</th>\n",
       "      <th>heart_disease</th>\n",
       "      <th>bmi</th>\n",
       "      <th>HbA1c_level</th>\n",
       "      <th>blood_glucose_level</th>\n",
       "      <th>diabetes</th>\n",
       "    </tr>\n",
       "  </thead>\n",
       "  <tbody>\n",
       "    <tr>\n",
       "      <th>count</th>\n",
       "      <td>96146.000000</td>\n",
       "      <td>96146.000000</td>\n",
       "      <td>96146.000000</td>\n",
       "      <td>96146.000000</td>\n",
       "      <td>96146.000000</td>\n",
       "      <td>96146.000000</td>\n",
       "      <td>96146.000000</td>\n",
       "    </tr>\n",
       "    <tr>\n",
       "      <th>mean</th>\n",
       "      <td>41.794326</td>\n",
       "      <td>0.077601</td>\n",
       "      <td>0.040803</td>\n",
       "      <td>27.321461</td>\n",
       "      <td>5.532609</td>\n",
       "      <td>138.218231</td>\n",
       "      <td>0.088220</td>\n",
       "    </tr>\n",
       "    <tr>\n",
       "      <th>std</th>\n",
       "      <td>22.462948</td>\n",
       "      <td>0.267544</td>\n",
       "      <td>0.197833</td>\n",
       "      <td>6.767716</td>\n",
       "      <td>1.073232</td>\n",
       "      <td>40.909771</td>\n",
       "      <td>0.283616</td>\n",
       "    </tr>\n",
       "    <tr>\n",
       "      <th>min</th>\n",
       "      <td>0.080000</td>\n",
       "      <td>0.000000</td>\n",
       "      <td>0.000000</td>\n",
       "      <td>10.010000</td>\n",
       "      <td>3.500000</td>\n",
       "      <td>80.000000</td>\n",
       "      <td>0.000000</td>\n",
       "    </tr>\n",
       "    <tr>\n",
       "      <th>25%</th>\n",
       "      <td>24.000000</td>\n",
       "      <td>0.000000</td>\n",
       "      <td>0.000000</td>\n",
       "      <td>23.400000</td>\n",
       "      <td>4.800000</td>\n",
       "      <td>100.000000</td>\n",
       "      <td>0.000000</td>\n",
       "    </tr>\n",
       "    <tr>\n",
       "      <th>50%</th>\n",
       "      <td>43.000000</td>\n",
       "      <td>0.000000</td>\n",
       "      <td>0.000000</td>\n",
       "      <td>27.320000</td>\n",
       "      <td>5.800000</td>\n",
       "      <td>140.000000</td>\n",
       "      <td>0.000000</td>\n",
       "    </tr>\n",
       "    <tr>\n",
       "      <th>75%</th>\n",
       "      <td>59.000000</td>\n",
       "      <td>0.000000</td>\n",
       "      <td>0.000000</td>\n",
       "      <td>29.860000</td>\n",
       "      <td>6.200000</td>\n",
       "      <td>159.000000</td>\n",
       "      <td>0.000000</td>\n",
       "    </tr>\n",
       "    <tr>\n",
       "      <th>max</th>\n",
       "      <td>80.000000</td>\n",
       "      <td>1.000000</td>\n",
       "      <td>1.000000</td>\n",
       "      <td>95.690000</td>\n",
       "      <td>9.000000</td>\n",
       "      <td>300.000000</td>\n",
       "      <td>1.000000</td>\n",
       "    </tr>\n",
       "  </tbody>\n",
       "</table>\n",
       "</div>"
      ],
      "text/plain": [
       "                age  hypertension  heart_disease           bmi   HbA1c_level  \\\n",
       "count  96146.000000  96146.000000   96146.000000  96146.000000  96146.000000   \n",
       "mean      41.794326      0.077601       0.040803     27.321461      5.532609   \n",
       "std       22.462948      0.267544       0.197833      6.767716      1.073232   \n",
       "min        0.080000      0.000000       0.000000     10.010000      3.500000   \n",
       "25%       24.000000      0.000000       0.000000     23.400000      4.800000   \n",
       "50%       43.000000      0.000000       0.000000     27.320000      5.800000   \n",
       "75%       59.000000      0.000000       0.000000     29.860000      6.200000   \n",
       "max       80.000000      1.000000       1.000000     95.690000      9.000000   \n",
       "\n",
       "       blood_glucose_level      diabetes  \n",
       "count         96146.000000  96146.000000  \n",
       "mean            138.218231      0.088220  \n",
       "std              40.909771      0.283616  \n",
       "min              80.000000      0.000000  \n",
       "25%             100.000000      0.000000  \n",
       "50%             140.000000      0.000000  \n",
       "75%             159.000000      0.000000  \n",
       "max             300.000000      1.000000  "
      ]
     },
     "execution_count": 8,
     "metadata": {},
     "output_type": "execute_result"
    }
   ],
   "source": [
    "# Create subplots\n",
    "fig, axes = plt.subplots(nrows=2, ncols=2, figsize=(10, 8))\n",
    "\n",
    "# List of numeric feature columns\n",
    "numeric_features = ['age', 'bmi','HbA1c_level', 'blood_glucose_level']\n",
    "\n",
    "# Loop through numeric features and plot them\n",
    "for i, feature in enumerate(numeric_features):\n",
    "    row = i // 2\n",
    "    col = i % 2\n",
    "    sns.histplot(df[feature], ax=axes[row, col])\n",
    "    axes[row, col].set_title(f'{feature}')\n",
    "\n",
    "# Adjust layout\n",
    "plt.tight_layout()\n",
    "\n",
    "# Show the plots\n",
    "plt.show()\n",
    "df.describe()"
   ]
  },
  {
   "cell_type": "code",
   "execution_count": 9,
   "id": "d0e5bdab-82dd-4e14-93a3-aa80e307a196",
   "metadata": {},
   "outputs": [
    {
     "data": {
      "text/plain": [
       "Index(['age', 'hypertension', 'heart_disease', 'bmi', 'HbA1c_level',\n",
       "       'blood_glucose_level', 'diabetes', 'gender_Female', 'gender_Male',\n",
       "       'gender_Other', 'smoking_history_No Info', 'smoking_history_current',\n",
       "       'smoking_history_ever', 'smoking_history_former',\n",
       "       'smoking_history_never', 'smoking_history_not current'],\n",
       "      dtype='object')"
      ]
     },
     "execution_count": 9,
     "metadata": {},
     "output_type": "execute_result"
    }
   ],
   "source": [
    "# enumerate type is encoded from string to 0,1\n",
    "df_encoded = pd.get_dummies(df, columns=['gender', 'smoking_history'])\n",
    "df_encoded.columns"
   ]
  },
  {
   "cell_type": "code",
   "execution_count": 10,
   "id": "1b1b4f6f-2819-41f7-9681-19b54fc7a5a4",
   "metadata": {},
   "outputs": [
    {
     "data": {
      "text/html": [
       "<div>\n",
       "<style scoped>\n",
       "    .dataframe tbody tr th:only-of-type {\n",
       "        vertical-align: middle;\n",
       "    }\n",
       "\n",
       "    .dataframe tbody tr th {\n",
       "        vertical-align: top;\n",
       "    }\n",
       "\n",
       "    .dataframe thead th {\n",
       "        text-align: right;\n",
       "    }\n",
       "</style>\n",
       "<table border=\"1\" class=\"dataframe\">\n",
       "  <thead>\n",
       "    <tr style=\"text-align: right;\">\n",
       "      <th></th>\n",
       "      <th>age</th>\n",
       "      <th>hypertension</th>\n",
       "      <th>heart_disease</th>\n",
       "      <th>bmi</th>\n",
       "      <th>HbA1c_level</th>\n",
       "      <th>blood_glucose_level</th>\n",
       "      <th>diabetes</th>\n",
       "      <th>gender_Female</th>\n",
       "      <th>gender_Male</th>\n",
       "      <th>gender_Other</th>\n",
       "      <th>smoking_history_No Info</th>\n",
       "      <th>smoking_history_current</th>\n",
       "      <th>smoking_history_ever</th>\n",
       "      <th>smoking_history_former</th>\n",
       "      <th>smoking_history_never</th>\n",
       "      <th>smoking_history_not current</th>\n",
       "    </tr>\n",
       "  </thead>\n",
       "  <tbody>\n",
       "    <tr>\n",
       "      <th>0</th>\n",
       "      <td>80.0</td>\n",
       "      <td>0</td>\n",
       "      <td>1</td>\n",
       "      <td>25.19</td>\n",
       "      <td>6.6</td>\n",
       "      <td>140</td>\n",
       "      <td>0</td>\n",
       "      <td>1</td>\n",
       "      <td>0</td>\n",
       "      <td>0</td>\n",
       "      <td>0</td>\n",
       "      <td>0</td>\n",
       "      <td>0</td>\n",
       "      <td>0</td>\n",
       "      <td>1</td>\n",
       "      <td>0</td>\n",
       "    </tr>\n",
       "    <tr>\n",
       "      <th>1</th>\n",
       "      <td>54.0</td>\n",
       "      <td>0</td>\n",
       "      <td>0</td>\n",
       "      <td>27.32</td>\n",
       "      <td>6.6</td>\n",
       "      <td>80</td>\n",
       "      <td>0</td>\n",
       "      <td>1</td>\n",
       "      <td>0</td>\n",
       "      <td>0</td>\n",
       "      <td>1</td>\n",
       "      <td>0</td>\n",
       "      <td>0</td>\n",
       "      <td>0</td>\n",
       "      <td>0</td>\n",
       "      <td>0</td>\n",
       "    </tr>\n",
       "    <tr>\n",
       "      <th>2</th>\n",
       "      <td>28.0</td>\n",
       "      <td>0</td>\n",
       "      <td>0</td>\n",
       "      <td>27.32</td>\n",
       "      <td>5.7</td>\n",
       "      <td>158</td>\n",
       "      <td>0</td>\n",
       "      <td>0</td>\n",
       "      <td>1</td>\n",
       "      <td>0</td>\n",
       "      <td>0</td>\n",
       "      <td>0</td>\n",
       "      <td>0</td>\n",
       "      <td>0</td>\n",
       "      <td>1</td>\n",
       "      <td>0</td>\n",
       "    </tr>\n",
       "    <tr>\n",
       "      <th>3</th>\n",
       "      <td>36.0</td>\n",
       "      <td>0</td>\n",
       "      <td>0</td>\n",
       "      <td>23.45</td>\n",
       "      <td>5.0</td>\n",
       "      <td>155</td>\n",
       "      <td>0</td>\n",
       "      <td>1</td>\n",
       "      <td>0</td>\n",
       "      <td>0</td>\n",
       "      <td>0</td>\n",
       "      <td>1</td>\n",
       "      <td>0</td>\n",
       "      <td>0</td>\n",
       "      <td>0</td>\n",
       "      <td>0</td>\n",
       "    </tr>\n",
       "    <tr>\n",
       "      <th>4</th>\n",
       "      <td>76.0</td>\n",
       "      <td>1</td>\n",
       "      <td>1</td>\n",
       "      <td>20.14</td>\n",
       "      <td>4.8</td>\n",
       "      <td>155</td>\n",
       "      <td>0</td>\n",
       "      <td>0</td>\n",
       "      <td>1</td>\n",
       "      <td>0</td>\n",
       "      <td>0</td>\n",
       "      <td>1</td>\n",
       "      <td>0</td>\n",
       "      <td>0</td>\n",
       "      <td>0</td>\n",
       "      <td>0</td>\n",
       "    </tr>\n",
       "  </tbody>\n",
       "</table>\n",
       "</div>"
      ],
      "text/plain": [
       "    age  hypertension  heart_disease    bmi  HbA1c_level  blood_glucose_level  \\\n",
       "0  80.0             0              1  25.19          6.6                  140   \n",
       "1  54.0             0              0  27.32          6.6                   80   \n",
       "2  28.0             0              0  27.32          5.7                  158   \n",
       "3  36.0             0              0  23.45          5.0                  155   \n",
       "4  76.0             1              1  20.14          4.8                  155   \n",
       "\n",
       "   diabetes  gender_Female  gender_Male  gender_Other  \\\n",
       "0         0              1            0             0   \n",
       "1         0              1            0             0   \n",
       "2         0              0            1             0   \n",
       "3         0              1            0             0   \n",
       "4         0              0            1             0   \n",
       "\n",
       "   smoking_history_No Info  smoking_history_current  smoking_history_ever  \\\n",
       "0                        0                        0                     0   \n",
       "1                        1                        0                     0   \n",
       "2                        0                        0                     0   \n",
       "3                        0                        1                     0   \n",
       "4                        0                        1                     0   \n",
       "\n",
       "   smoking_history_former  smoking_history_never  smoking_history_not current  \n",
       "0                       0                      1                            0  \n",
       "1                       0                      0                            0  \n",
       "2                       0                      1                            0  \n",
       "3                       0                      0                            0  \n",
       "4                       0                      0                            0  "
      ]
     },
     "execution_count": 10,
     "metadata": {},
     "output_type": "execute_result"
    }
   ],
   "source": [
    "df_encoded.head()"
   ]
  },
  {
   "cell_type": "code",
   "execution_count": 11,
   "id": "6b30f610-d678-4230-a1ce-670a2864c13e",
   "metadata": {},
   "outputs": [],
   "source": [
    "columns = ['gender_Female', 'gender_Male',\n",
    "       'gender_Other', 'smoking_history_No Info', 'smoking_history_current',\n",
    "       'smoking_history_ever', 'smoking_history_former',\n",
    "       'smoking_history_never', 'smoking_history_not current']\n",
    "# cast type to int  \n",
    "df_encoded[columns] = df_encoded[columns].astype(int)\n",
    "df_encoded_metamorphic_test = df_encoded.copy() # for metamorphic test\n",
    "# ensure that all features have the same scale or unit variance for algorithm. \n",
    "# in order to use metamorphic test, we remove the scaler\n",
    "# for numeric features\n",
    "# scaler = StandardScaler()\n",
    "# df_encoded[numeric_features] = scaler.fit_transform(df_encoded[numeric_features])\n",
    "# df_encoded.head(20)"
   ]
  },
  {
   "cell_type": "code",
   "execution_count": 12,
   "id": "548745e1-f123-4f2b-992b-8514a410dfed",
   "metadata": {},
   "outputs": [
    {
     "data": {
      "text/plain": [
       "((76916, 15), (76916,), (19230, 15), (19230,))"
      ]
     },
     "execution_count": 12,
     "metadata": {},
     "output_type": "execute_result"
    }
   ],
   "source": [
    "X = df_encoded.drop('diabetes', axis = 1)\n",
    "y = df_encoded.diabetes\n",
    "# split the source(X) and target(y) into train and test  20% for test, 80% for training\n",
    "X_train, X_test, y_train, y_test = train_test_split(X,y, test_size = 0.2, random_state = 42)\n",
    "X_train.shape, y_train.shape, X_test.shape, y_test.shape"
   ]
  },
  {
   "cell_type": "code",
   "execution_count": 13,
   "id": "7902461e-a247-45e6-8f32-51b42ee7262f",
   "metadata": {},
   "outputs": [
    {
     "data": {
      "text/plain": [
       "0    70155\n",
       "1     6761\n",
       "Name: diabetes, dtype: int64"
      ]
     },
     "execution_count": 13,
     "metadata": {},
     "output_type": "execute_result"
    }
   ],
   "source": [
    "y_train.value_counts()"
   ]
  },
  {
   "cell_type": "code",
   "execution_count": 14,
   "id": "6707dbb7-bc9b-48f6-bb53-8f8f337e2a27",
   "metadata": {},
   "outputs": [
    {
     "data": {
      "text/plain": [
       "0    70155\n",
       "1    70155\n",
       "Name: diabetes, dtype: int64"
      ]
     },
     "execution_count": 14,
     "metadata": {},
     "output_type": "execute_result"
    }
   ],
   "source": [
    "# keep the training data balance to reduce bias and overfitting\n",
    "smote = SMOTE(sampling_strategy = 'auto', random_state = 42)\n",
    "X_train_resampled, y_train_resampled =smote.fit_resample(X_train, y_train)\n",
    "y_train_resampled.value_counts()"
   ]
  },
  {
   "cell_type": "code",
   "execution_count": 15,
   "id": "ed2717ee-99f4-497d-bf09-d0e6f7e07fbe",
   "metadata": {
    "tags": []
   },
   "outputs": [
    {
     "name": "stderr",
     "output_type": "stream",
     "text": [
      "WARNING:root:Malformed experiment '185672974973952538'. Detailed error Yaml file '/Users/jamesoujamesou/Downloads/sit_thesis/IT819/implementation/machine_learning/Mlflow-Diabetes-Prediction-Pipeline/mlruns/185672974973952538/meta.yaml' does not exist.\n",
      "Traceback (most recent call last):\n",
      "  File \"/Users/jamesoujamesou/opt/anaconda3/lib/python3.9/site-packages/mlflow/store/tracking/file_store.py\", line 303, in search_experiments\n",
      "    exp = self._get_experiment(exp_id, view_type)\n",
      "  File \"/Users/jamesoujamesou/opt/anaconda3/lib/python3.9/site-packages/mlflow/store/tracking/file_store.py\", line 396, in _get_experiment\n",
      "    meta = FileStore._read_yaml(experiment_dir, FileStore.META_DATA_FILE_NAME)\n",
      "  File \"/Users/jamesoujamesou/opt/anaconda3/lib/python3.9/site-packages/mlflow/store/tracking/file_store.py\", line 1304, in _read_yaml\n",
      "    return _read_helper(root, file_name, attempts_remaining=retries)\n",
      "  File \"/Users/jamesoujamesou/opt/anaconda3/lib/python3.9/site-packages/mlflow/store/tracking/file_store.py\", line 1297, in _read_helper\n",
      "    result = read_yaml(root, file_name)\n",
      "  File \"/Users/jamesoujamesou/opt/anaconda3/lib/python3.9/site-packages/mlflow/utils/file_utils.py\", line 285, in read_yaml\n",
      "    raise MissingConfigException(f\"Yaml file '{file_path}' does not exist.\")\n",
      "mlflow.exceptions.MissingConfigException: Yaml file '/Users/jamesoujamesou/Downloads/sit_thesis/IT819/implementation/machine_learning/Mlflow-Diabetes-Prediction-Pipeline/mlruns/185672974973952538/meta.yaml' does not exist.\n",
      "2023/09/26 11:43:50 INFO mlflow.tracking.fluent: Experiment with name 'diabetes_prediction' does not exist. Creating a new experiment.\n",
      "WARNING:root:Malformed experiment '185672974973952538'. Detailed error Yaml file '/Users/jamesoujamesou/Downloads/sit_thesis/IT819/implementation/machine_learning/Mlflow-Diabetes-Prediction-Pipeline/mlruns/185672974973952538/meta.yaml' does not exist.\n",
      "Traceback (most recent call last):\n",
      "  File \"/Users/jamesoujamesou/opt/anaconda3/lib/python3.9/site-packages/mlflow/store/tracking/file_store.py\", line 303, in search_experiments\n",
      "    exp = self._get_experiment(exp_id, view_type)\n",
      "  File \"/Users/jamesoujamesou/opt/anaconda3/lib/python3.9/site-packages/mlflow/store/tracking/file_store.py\", line 396, in _get_experiment\n",
      "    meta = FileStore._read_yaml(experiment_dir, FileStore.META_DATA_FILE_NAME)\n",
      "  File \"/Users/jamesoujamesou/opt/anaconda3/lib/python3.9/site-packages/mlflow/store/tracking/file_store.py\", line 1304, in _read_yaml\n",
      "    return _read_helper(root, file_name, attempts_remaining=retries)\n",
      "  File \"/Users/jamesoujamesou/opt/anaconda3/lib/python3.9/site-packages/mlflow/store/tracking/file_store.py\", line 1297, in _read_helper\n",
      "    result = read_yaml(root, file_name)\n",
      "  File \"/Users/jamesoujamesou/opt/anaconda3/lib/python3.9/site-packages/mlflow/utils/file_utils.py\", line 285, in read_yaml\n",
      "    raise MissingConfigException(f\"Yaml file '{file_path}' does not exist.\")\n",
      "mlflow.exceptions.MissingConfigException: Yaml file '/Users/jamesoujamesou/Downloads/sit_thesis/IT819/implementation/machine_learning/Mlflow-Diabetes-Prediction-Pipeline/mlruns/185672974973952538/meta.yaml' does not exist.\n"
     ]
    },
    {
     "name": "stdout",
     "output_type": "stream",
     "text": [
      "Model: Logistic_Regression\n",
      "Accuracy: 0.94\n",
      "Classification Report:\n",
      "              precision    recall  f1-score   support\n",
      "\n",
      "           0       0.97      0.96      0.96     17509\n",
      "           1       0.62      0.74      0.68      1721\n",
      "\n",
      "    accuracy                           0.94     19230\n",
      "   macro avg       0.80      0.85      0.82     19230\n",
      "weighted avg       0.94      0.94      0.94     19230\n",
      "\n",
      "roc_auc:\n",
      "0.8479450545048817\n"
     ]
    },
    {
     "data": {
      "image/png": "[encoded data removed]",
      "text/plain": [
       "<Figure size 432x288 with 1 Axes>"
      ]
     },
     "metadata": {
      "needs_background": "light"
     },
     "output_type": "display_data"
    },
    {
     "name": "stdout",
     "output_type": "stream",
     "text": [
      "Confusion Matrix:\n",
      "[[16732   777]\n",
      " [  447  1274]]\n"
     ]
    },
    {
     "name": "stderr",
     "output_type": "stream",
     "text": [
      "/Users/jamesoujamesou/opt/anaconda3/lib/python3.9/site-packages/_distutils_hack/__init__.py:33: UserWarning: Setuptools is replacing distutils.\n",
      "  warnings.warn(\"Setuptools is replacing distutils.\")\n"
     ]
    },
    {
     "name": "stdout",
     "output_type": "stream",
     "text": [
      "Details logged at: http://localhost:5000/\n",
      "Run ID: ebbe457270034e818c159ef711887b7e\n",
      "==================================================\n",
      "Model: Random_Forest\n",
      "Accuracy: 0.97\n",
      "Classification Report:\n",
      "              precision    recall  f1-score   support\n",
      "\n",
      "           0       0.97      0.99      0.98     17509\n",
      "           1       0.88      0.71      0.79      1721\n",
      "\n",
      "    accuracy                           0.97     19230\n",
      "   macro avg       0.93      0.85      0.89     19230\n",
      "weighted avg       0.96      0.97      0.96     19230\n",
      "\n",
      "roc_auc:\n",
      "0.8525814017321679\n"
     ]
    },
    {
     "data": {
      "image/png": "[encoded data removed]",
      "text/plain": [
       "<Figure size 432x288 with 1 Axes>"
      ]
     },
     "metadata": {
      "needs_background": "light"
     },
     "output_type": "display_data"
    },
    {
     "name": "stdout",
     "output_type": "stream",
     "text": [
      "Confusion Matrix:\n",
      "[[17342   167]\n",
      " [  491  1230]]\n",
      "Details logged at: http://localhost:5000/\n",
      "Run ID: 06ee6a895e1940209727f39762db50e7\n",
      "==================================================\n",
      "Model: SVM\n",
      "Accuracy: 0.88\n",
      "Classification Report:\n",
      "              precision    recall  f1-score   support\n",
      "\n",
      "           0       0.99      0.88      0.93     17509\n",
      "           1       0.43      0.90      0.58      1721\n",
      "\n",
      "    accuracy                           0.88     19230\n",
      "   macro avg       0.71      0.89      0.76     19230\n",
      "weighted avg       0.94      0.88      0.90     19230\n",
      "\n",
      "roc_auc:\n",
      "0.8925169852881173\n"
     ]
    },
    {
     "data": {
      "image/png": "[encoded data removed]",
      "text/plain": [
       "<Figure size 432x288 with 1 Axes>"
      ]
     },
     "metadata": {
      "needs_background": "light"
     },
     "output_type": "display_data"
    },
    {
     "name": "stdout",
     "output_type": "stream",
     "text": [
      "Confusion Matrix:\n",
      "[[15434  2075]\n",
      " [  166  1555]]\n",
      "Details logged at: http://localhost:5000/\n",
      "Run ID: 2bcc90d7ddf74e2585695e4722852620\n",
      "==================================================\n",
      "Model: K_Nearest_Neighbors\n",
      "Accuracy: 0.89\n",
      "Classification Report:\n",
      "              precision    recall  f1-score   support\n",
      "\n",
      "           0       0.98      0.90      0.94     17509\n",
      "           1       0.44      0.79      0.56      1721\n",
      "\n",
      "    accuracy                           0.89     19230\n",
      "   macro avg       0.71      0.84      0.75     19230\n",
      "weighted avg       0.93      0.89      0.90     19230\n",
      "\n",
      "roc_auc:\n",
      "0.8443204223782778\n"
     ]
    },
    {
     "data": {
      "image/png": "[encoded data removed]",
      "text/plain": [
       "<Figure size 432x288 with 1 Axes>"
      ]
     },
     "metadata": {
      "needs_background": "light"
     },
     "output_type": "display_data"
    },
    {
     "name": "stdout",
     "output_type": "stream",
     "text": [
      "Confusion Matrix:\n",
      "[[15781  1728]\n",
      " [  366  1355]]\n",
      "Details logged at: http://localhost:5000/\n",
      "Run ID: ebeb668fb9274fafb4fa311ec1673210\n",
      "==================================================\n"
     ]
    }
   ],
   "source": [
    "run = mlflow.active_run()\n",
    "if run:\n",
    "    print(\"Active run_id: {}\".format(run.info.run_id))\n",
    "    mlflow.end_run()\n",
    "\n",
    "mlflow.set_experiment('diabetes_prediction') \n",
    "mlflow.set_tracking_uri(\"http://localhost:5000/\") # Actual Server URI instead of localhost\n",
    "experiment = mlflow.get_experiment_by_name(\"diabetes_prediction\")\n",
    "# set classfiers and select the best performance one from them\n",
    "params = {\n",
    "    'criterion': 'entropy',\n",
    "    'max_depth': 1000,\n",
    "    'max_features': 'sqrt',\n",
    "    'min_samples_leaf': 4,\n",
    "    'min_samples_split': 5,\n",
    "    'n_estimators': 600,\n",
    "    ###\n",
    "    'n_jobs': -1,\n",
    "    'random_state': 42\n",
    "}\n",
    "classifiers = [\n",
    "        (\"Logistic_Regression\", LogisticRegression(max_iter=10000)),\n",
    "        # Log parameters, different model have different parameters\n",
    "        (\"Random_Forest\", RandomForestClassifier(**params)),\n",
    "        #(\"Random_Forest\", RandomForestClassifier()),\n",
    "        (\"SVM\", SVC()), #spend on a lot of time\n",
    "        (\"K_Nearest_Neighbors\", KNeighborsClassifier())\n",
    "        ]\n",
    "# Iterate through classifiers, fit, and evaluate them\n",
    "for name, classifier in classifiers:\n",
    "    # if \"Random_Forest\" == name:\n",
    "    #     mlflow.log_param(\"n_estimators\", 100)\n",
    "    #     mlflow.log_param(\"max_depth\", 10)\n",
    "    # Start MLflow run\n",
    "    with mlflow.start_run(nested=True,run_name=name) as run:\n",
    "        classifier.fit(X_train_resampled, y_train_resampled)\n",
    "        y_pred = classifier.predict(X_test)\n",
    "        # Calculate accuracy\n",
    "        accuracy = accuracy_score(y_test, y_pred)\n",
    "        print(f\"Model: {name}\")\n",
    "        print(f\"Accuracy: {accuracy:.2f}\")\n",
    "        # Display classification report\n",
    "        report = classification_report(y_test, y_pred)\n",
    "        print(f\"Classification Report:\\n{report}\")\n",
    "        precision, recall, fscore, support = precision_recall_fscore_support(y_test, y_pred)\n",
    "        # Log metrics \n",
    "        # print(f\"precision:\\n{precision}\")\n",
    "        # print(f\"recall:\\n{recall}\")\n",
    "        # print(f\"fscore:\\n{fscore}\")\n",
    "        # print(f\"support:\\n{support}\")\n",
    "        roc_auc = roc_auc_score(y_test, y_pred)\n",
    "        print(f\"roc_auc:\\n{roc_auc}\")\n",
    "        metrics = {\"accuracy\":accuracy, \n",
    "                   \"precision\":float(precision[0]), \n",
    "                   \"recall\":float(recall[0]), \n",
    "                   \"fscore\":float(fscore[0]), \n",
    "                   \"support\":float(support[0]), \n",
    "                   \"roc_auc\":float(roc_auc)\n",
    "        }\n",
    "        mlflow.log_metrics(metrics)\n",
    "        mlflow.log_param(\"model\", name)\n",
    "        precisions, recalls, thresholds = precision_recall_curve(y_test, y_pred)\n",
    "        # print(f\"precisions:\\n{precisions}\")\n",
    "        # print(f\"recalls:\\n{recalls}\")\n",
    "        # print(f\"thresholds:\\n{thresholds}\")\n",
    "        #PR diagram\n",
    "        plt.plot(thresholds, precisions[:-1], 'b--', label='Precision')\n",
    "        plt.plot(thresholds, recalls[:-1], 'g-', label='Recall')\n",
    "        plt.xlabel('Threshold')\n",
    "        plt.legend(loc='center right')\n",
    "        plt.ylim([0, 1])\n",
    "        plt.show()\n",
    "        # Display confusion matrix\n",
    "        confusion = confusion_matrix(y_test, y_pred)\n",
    "        print(f\"Confusion Matrix:\\n{confusion}\")\n",
    "        mlflow.sklearn.log_model(classifier, name)\n",
    "        print(\"Details logged at: %s\" % mlflow.get_tracking_uri())\n",
    "        print(\"Run ID: %s\" % run.info.run_uuid)\n",
    "        print(\"=\" * 50)\n",
    "    mlflow.end_run()"
   ]
  },
  {
   "cell_type": "code",
   "execution_count": 16,
   "id": "aad0813b-1881-427b-9e37-d222a0e164ab",
   "metadata": {},
   "outputs": [
    {
     "name": "stdout",
     "output_type": "stream",
     "text": [
      "Model: Random_Forest\n",
      "Accuracy: 0.9644825793031722\n"
     ]
    }
   ],
   "source": [
    "# By test the algorithm, we get the best one is Random forest\n",
    "# the next step we should test the modelling with metamorphic test\n",
    "model_name = 'Random_Forest'\n",
    "randomForest = RandomForestClassifier()\n",
    "# re-training\n",
    "randomForest.fit(X_train_resampled, y_train_resampled)\n",
    "y_pred = randomForest.predict(X_test)\n",
    "# Calculate accuracy\n",
    "accuracy_radmon_forest = accuracy_score(y_test, y_pred)\n",
    "print(f\"Model: {model_name}\")\n",
    "print(f\"Accuracy: {accuracy_radmon_forest}\")"
   ]
  },
  {
   "cell_type": "code",
   "execution_count": 17,
   "id": "dd7cdaa1-848f-4330-a76c-4730bfba057c",
   "metadata": {
    "tags": []
   },
   "outputs": [
    {
     "data": {
      "text/html": [
       "<div>\n",
       "<style scoped>\n",
       "    .dataframe tbody tr th:only-of-type {\n",
       "        vertical-align: middle;\n",
       "    }\n",
       "\n",
       "    .dataframe tbody tr th {\n",
       "        vertical-align: top;\n",
       "    }\n",
       "\n",
       "    .dataframe thead th {\n",
       "        text-align: right;\n",
       "    }\n",
       "</style>\n",
       "<table border=\"1\" class=\"dataframe\">\n",
       "  <thead>\n",
       "    <tr style=\"text-align: right;\">\n",
       "      <th></th>\n",
       "      <th>age</th>\n",
       "      <th>hypertension</th>\n",
       "      <th>heart_disease</th>\n",
       "      <th>bmi</th>\n",
       "      <th>HbA1c_level</th>\n",
       "      <th>blood_glucose_level</th>\n",
       "      <th>diabetes</th>\n",
       "      <th>gender_Female</th>\n",
       "      <th>gender_Male</th>\n",
       "      <th>gender_Other</th>\n",
       "      <th>smoking_history_No Info</th>\n",
       "      <th>smoking_history_current</th>\n",
       "      <th>smoking_history_ever</th>\n",
       "      <th>smoking_history_former</th>\n",
       "      <th>smoking_history_never</th>\n",
       "      <th>smoking_history_not current</th>\n",
       "    </tr>\n",
       "  </thead>\n",
       "  <tbody>\n",
       "    <tr>\n",
       "      <th>0</th>\n",
       "      <td>90.0</td>\n",
       "      <td>0</td>\n",
       "      <td>1</td>\n",
       "      <td>25.19</td>\n",
       "      <td>6.6</td>\n",
       "      <td>140</td>\n",
       "      <td>0</td>\n",
       "      <td>1</td>\n",
       "      <td>0</td>\n",
       "      <td>0</td>\n",
       "      <td>0</td>\n",
       "      <td>0</td>\n",
       "      <td>0</td>\n",
       "      <td>0</td>\n",
       "      <td>1</td>\n",
       "      <td>0</td>\n",
       "    </tr>\n",
       "    <tr>\n",
       "      <th>1</th>\n",
       "      <td>64.0</td>\n",
       "      <td>0</td>\n",
       "      <td>0</td>\n",
       "      <td>27.32</td>\n",
       "      <td>6.6</td>\n",
       "      <td>80</td>\n",
       "      <td>0</td>\n",
       "      <td>1</td>\n",
       "      <td>0</td>\n",
       "      <td>0</td>\n",
       "      <td>1</td>\n",
       "      <td>0</td>\n",
       "      <td>0</td>\n",
       "      <td>0</td>\n",
       "      <td>0</td>\n",
       "      <td>0</td>\n",
       "    </tr>\n",
       "    <tr>\n",
       "      <th>2</th>\n",
       "      <td>38.0</td>\n",
       "      <td>0</td>\n",
       "      <td>0</td>\n",
       "      <td>27.32</td>\n",
       "      <td>5.7</td>\n",
       "      <td>158</td>\n",
       "      <td>0</td>\n",
       "      <td>0</td>\n",
       "      <td>1</td>\n",
       "      <td>0</td>\n",
       "      <td>0</td>\n",
       "      <td>0</td>\n",
       "      <td>0</td>\n",
       "      <td>0</td>\n",
       "      <td>1</td>\n",
       "      <td>0</td>\n",
       "    </tr>\n",
       "    <tr>\n",
       "      <th>3</th>\n",
       "      <td>46.0</td>\n",
       "      <td>0</td>\n",
       "      <td>0</td>\n",
       "      <td>23.45</td>\n",
       "      <td>5.0</td>\n",
       "      <td>155</td>\n",
       "      <td>0</td>\n",
       "      <td>1</td>\n",
       "      <td>0</td>\n",
       "      <td>0</td>\n",
       "      <td>0</td>\n",
       "      <td>1</td>\n",
       "      <td>0</td>\n",
       "      <td>0</td>\n",
       "      <td>0</td>\n",
       "      <td>0</td>\n",
       "    </tr>\n",
       "    <tr>\n",
       "      <th>4</th>\n",
       "      <td>86.0</td>\n",
       "      <td>1</td>\n",
       "      <td>1</td>\n",
       "      <td>20.14</td>\n",
       "      <td>4.8</td>\n",
       "      <td>155</td>\n",
       "      <td>0</td>\n",
       "      <td>0</td>\n",
       "      <td>1</td>\n",
       "      <td>0</td>\n",
       "      <td>0</td>\n",
       "      <td>1</td>\n",
       "      <td>0</td>\n",
       "      <td>0</td>\n",
       "      <td>0</td>\n",
       "      <td>0</td>\n",
       "    </tr>\n",
       "  </tbody>\n",
       "</table>\n",
       "</div>"
      ],
      "text/plain": [
       "    age  hypertension  heart_disease    bmi  HbA1c_level  blood_glucose_level  \\\n",
       "0  90.0             0              1  25.19          6.6                  140   \n",
       "1  64.0             0              0  27.32          6.6                   80   \n",
       "2  38.0             0              0  27.32          5.7                  158   \n",
       "3  46.0             0              0  23.45          5.0                  155   \n",
       "4  86.0             1              1  20.14          4.8                  155   \n",
       "\n",
       "   diabetes  gender_Female  gender_Male  gender_Other  \\\n",
       "0         0              1            0             0   \n",
       "1         0              1            0             0   \n",
       "2         0              0            1             0   \n",
       "3         0              1            0             0   \n",
       "4         0              0            1             0   \n",
       "\n",
       "   smoking_history_No Info  smoking_history_current  smoking_history_ever  \\\n",
       "0                        0                        0                     0   \n",
       "1                        1                        0                     0   \n",
       "2                        0                        0                     0   \n",
       "3                        0                        1                     0   \n",
       "4                        0                        1                     0   \n",
       "\n",
       "   smoking_history_former  smoking_history_never  smoking_history_not current  \n",
       "0                       0                      1                            0  \n",
       "1                       0                      0                            0  \n",
       "2                       0                      1                            0  \n",
       "3                       0                      0                            0  \n",
       "4                       0                      0                            0  "
      ]
     },
     "execution_count": 17,
     "metadata": {},
     "output_type": "execute_result"
    }
   ],
   "source": [
    "# increasing the patient's age by 10 years, or by decreasing the patient's bmi by 5%. \n",
    "# we choose increasing age by 10 years as an example\n",
    "# if we get similar accruracy rate with incresing before, which means pass the metamorphic test\n",
    "# numer features 'age', 'bmi','HbA1c_level', 'blood_glucose_level'\n",
    "increased_age = 10\n",
    "df_encoded_metamorphic_test['age'] = df_encoded_metamorphic_test['age'] + increased_age\n",
    "df_encoded_metamorphic_test.head()"
   ]
  },
  {
   "cell_type": "code",
   "execution_count": 18,
   "id": "d9a71b79-08ed-44c9-83c8-02c774fb19e0",
   "metadata": {},
   "outputs": [
    {
     "name": "stdout",
     "output_type": "stream",
     "text": [
      "Model: Random_Forest\n",
      "Accuracy: 0.9657826313052522\n",
      "Metamorphic relation holds: Prediction for accuracy (0.9644825793031722). After increased age by (10 years), the accuracy (0.9657826313052522) is similar.\n"
     ]
    }
   ],
   "source": [
    "# prepare the test data\n",
    "X = df_encoded_metamorphic_test.drop('diabetes', axis = 1)\n",
    "y = df_encoded_metamorphic_test.diabetes\n",
    "# split the source(X) and target(y) into train and test  20% for test, 80% for training\n",
    "X_train, X_test, y_train, y_test = train_test_split(X,y, test_size = 0.2, random_state = 42)\n",
    "X_train.shape, y_train.shape, X_test.shape, y_test.shape\n",
    "# keep the training data balance to reduce bias and overfitting\n",
    "smote = SMOTE(sampling_strategy = 'auto', random_state = 42)\n",
    "X_train_resampled, y_train_resampled =smote.fit_resample(X_train, y_train)\n",
    "randomForest = RandomForestClassifier(**params)\n",
    "# re-training\n",
    "randomForest.fit(X_train_resampled, y_train_resampled)\n",
    "# joblib.dump(model, \"rf.pkl\") #no need, use MFflow online model\n",
    "y_pred = randomForest.predict(X_test)\n",
    "# Calculate accuracy\n",
    "accuracy_metamorphic_test = accuracy_score(y_test, y_pred)\n",
    "# metamorphic_relation\n",
    "print(f\"Model: {model_name}\")\n",
    "print(f\"Accuracy: {accuracy_metamorphic_test}\")\n",
    "if str(accuracy_metamorphic_test)[0:4] == str(accuracy_radmon_forest)[0:4]:\n",
    "    print(f\"Metamorphic relation holds: Prediction for accuracy ({accuracy_radmon_forest}). \"\n",
    "          f\"After increased age by ({increased_age} years), the accuracy ({accuracy_metamorphic_test}) is similar.\")\n",
    "else:\n",
    "    print(f\"Metamorphic relation does not hold.\")"
   ]
  },
  {
   "cell_type": "code",
   "execution_count": 19,
   "id": "b9479bc4-b77d-4d46-85f2-9d3274965b6d",
   "metadata": {},
   "outputs": [
    {
     "name": "stdout",
     "output_type": "stream",
     "text": [
      "<class 'tuple'>\n",
      "   age  hypertension  heart_disease  bmi  HbA1c_level  blood_glucose_level  \\\n",
      "0   39             1              0   79          8.8                  145   \n",
      "\n",
      "   gender_Female  gender_Male  gender_Other  smoking_history_No Info  \\\n",
      "0              1            0             0                        1   \n",
      "\n",
      "   smoking_history_current  smoking_history_ever  smoking_history_former  \\\n",
      "0                        0                     0                       0   \n",
      "\n",
      "   smoking_history_never  smoking_history_not current  \n",
      "0                      0                            0  \n",
      "[1]\n"
     ]
    }
   ],
   "source": [
    "dict_data = {\"age\": 39, \"hypertension\": 1, \"heart_disease\": 0, \"bmi\": 79, \"HbA1c_level\": 8.8, \"blood_glucose_level\": 145, \"gender_Female\": 1, \"gender_Male\": 0, \"gender_Other\": 0, \"smoking_history_No Info\": 1, \"smoking_history_current\": 0, \"smoking_history_ever\": 0, \"smoking_history_former\": 0, \"smoking_history_never\": 0, \"smoking_history_not current\": 0},\n",
    "print(type(dict_data))\n",
    "df = pd.DataFrame.from_dict(dict_data)\n",
    "print(df)\n",
    "y_pred = randomForest.predict(df)\n",
    "print(y_pred)\n",
    "# Add MLFlow api for collecting the model metric data --Done\n",
    "# MLFlow tables structure and business structure\n",
    "# deploy a model file and implement a RestAPI inferface for application --Done\n",
    "# design a webpage and request the RestAPI after submitting the 'prediction' button to get the prediction result"
   ]
  },
  {
   "cell_type": "code",
   "execution_count": null,
   "id": "9afe5048-0037-45a2-99f0-51dc56ce6721",
   "metadata": {},
   "outputs": [],
   "source": []
  }
 ],
 "metadata": {
  "kernelspec": {
   "display_name": "Python 3 (ipykernel)",
   "language": "python",
   "name": "python3"
  },
  "language_info": {
   "codemirror_mode": {
    "name": "ipython",
    "version": 3
   },
   "file_extension": ".py",
   "mimetype": "text/x-python",
   "name": "python",
   "nbconvert_exporter": "python",
   "pygments_lexer": "ipython3",
   "version": "3.9.12"
  },
  "toc-autonumbering": true,
  "toc-showmarkdowntxt": true
 },
 "nbformat": 4,
 "nbformat_minor": 5
}
